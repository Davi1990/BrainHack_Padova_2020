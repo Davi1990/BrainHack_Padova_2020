{
 "cells": [
  {
   "cell_type": "code",
   "execution_count": 9,
   "metadata": {},
   "outputs": [],
   "source": [
    "import nipype\n",
    "from nipype.interfaces import afni\n",
    "from nipype.interfaces import freesurfer\n",
    "import os"
   ]
  },
  {
   "cell_type": "code",
   "execution_count": 5,
   "metadata": {},
   "outputs": [
    {
     "name": "stdout",
     "output_type": "stream",
     "text": [
      "201215-11:29:29,18 nipype.interface INFO:\n",
      "\t stdout 2020-12-15T11:29:29.018563:mri_convert.bin --input_volume /home/davide/Desktop/DAVE/BHG_Padova/data/derivatives/freesurfer/sub-0001/mri/aparc.a2009s+aseg.mgz --output_volume /home/davide/Desktop/DAVE/BHG_Padova/data/derivatives/freesurfer/sub-0001/mri/aparc.a2009s+aseg.nii.gz \n",
      "201215-11:29:30,482 nipype.interface INFO:\n",
      "\t stdout 2020-12-15T11:29:30.482593:$Id: mri_convert.c,v 1.226 2016/02/26 16:15:24 mreuter Exp $\n",
      "201215-11:29:30,484 nipype.interface INFO:\n",
      "\t stdout 2020-12-15T11:29:30.482593:reading from /home/davide/Desktop/DAVE/BHG_Padova/data/derivatives/freesurfer/sub-0001/mri/aparc.a2009s+aseg.mgz...\n",
      "201215-11:29:30,484 nipype.interface INFO:\n",
      "\t stdout 2020-12-15T11:29:30.482593:TR=8.13, TE=0.00, TI=0.00, flip angle=0.00\n",
      "201215-11:29:30,485 nipype.interface INFO:\n",
      "\t stdout 2020-12-15T11:29:30.482593:i_ras = (-1, 1.5134e-09, 0)\n",
      "201215-11:29:30,486 nipype.interface INFO:\n",
      "\t stdout 2020-12-15T11:29:30.482593:j_ras = (0, 0, -1)\n",
      "201215-11:29:30,486 nipype.interface INFO:\n",
      "\t stdout 2020-12-15T11:29:30.482593:k_ras = (3.49246e-10, 1, -3.72529e-09)\n",
      "201215-11:29:30,487 nipype.interface INFO:\n",
      "\t stdout 2020-12-15T11:29:30.482593:writing to /home/davide/Desktop/DAVE/BHG_Padova/data/derivatives/freesurfer/sub-0001/mri/aparc.a2009s+aseg.nii.gz...\n"
     ]
    },
    {
     "data": {
      "text/plain": [
       "<nipype.interfaces.base.support.InterfaceResult at 0x7f8839859908>"
      ]
     },
     "execution_count": 5,
     "metadata": {},
     "output_type": "execute_result"
    }
   ],
   "source": [
    "mc = freesurfer.MRIConvert()\n",
    "mc.inputs.in_file = '/home/davide/Desktop/DAVE/BHG_Padova/data/derivatives/freesurfer/sub-0001/mri/aparc.a2009s+aseg.mgz'                               \n",
    "mc.inputs.out_file = '/home/davide/Desktop/DAVE/BHG_Padova/data/derivatives/freesurfer/sub-0001/mri/aparc.a2009s+aseg.nii.gz'\n",
    "mc.run()\n"
   ]
  },
  {
   "cell_type": "code",
   "execution_count": 8,
   "metadata": {},
   "outputs": [
    {
     "name": "stdout",
     "output_type": "stream",
     "text": [
      "201215-11:38:21,496 nipype.interface INFO:\n",
      "\t stderr 2020-12-15T11:38:21.496161:++ 3dcalc: AFNI version=AFNI_19.0.26 (Mar 20 2019) [64-bit]\n",
      "201215-11:38:21,498 nipype.interface INFO:\n",
      "\t stderr 2020-12-15T11:38:21.496161:++ Authored by: A cast of thousands\n",
      "201215-11:38:21,500 nipype.interface INFO:\n",
      "\t stderr 2020-12-15T11:38:21.500645:** AFNI converts NIFTI_datatype=8 (INT32) in file /home/davide/Desktop/DAVE/BHG_Padova/data/derivatives/freesurfer/sub-0001/mri/aparc.a2009s+aseg.nii.gz to FLOAT32\n",
      "201215-11:38:21,501 nipype.interface INFO:\n",
      "\t stderr 2020-12-15T11:38:21.500645:     Warnings of this type will be muted for this session.\n",
      "201215-11:38:21,502 nipype.interface INFO:\n",
      "\t stderr 2020-12-15T11:38:21.500645:     Set AFNI_NIFTI_TYPE_WARN to YES to see them all, NO to see none.\n",
      "201215-11:38:23,238 nipype.interface INFO:\n",
      "\t stderr 2020-12-15T11:38:23.238664:++ Output dataset /home/davide/Desktop/DAVE/BHG_Padova/data/derivatives/freesurfer/sub-0001/mri/lh_G_postcentral2.nii.gz\n"
     ]
    }
   ],
   "source": [
    "\n",
    "calc = afni.Calc()\n",
    "calc.inputs.in_file_a = '/home/davide/Desktop/DAVE/BHG_Padova/data/derivatives/freesurfer/sub-0001/mri/aparc.a2009s+aseg.nii.gz'\n",
    "calc.inputs.expr = 'amongst(a,11128)'\n",
    "calc.inputs.out_file= '/home/davide/Desktop/DAVE/BHG_Padova/data/derivatives/freesurfer/sub-0001/mri/lh_G_postcentral2.nii.gz'\n",
    "res = calc.run()  "
   ]
  },
  {
   "cell_type": "code",
   "execution_count": 16,
   "metadata": {},
   "outputs": [
    {
     "ename": "SyntaxError",
     "evalue": "invalid syntax (<ipython-input-16-31c5af357599>, line 11)",
     "output_type": "error",
     "traceback": [
      "\u001b[0;36m  File \u001b[0;32m\"<ipython-input-16-31c5af357599>\"\u001b[0;36m, line \u001b[0;32m11\u001b[0m\n\u001b[0;31m    calc.inputs.out_file= os.path.dirname(mc.inputs.in_file) + '/' output_name + '.nii.gz')\u001b[0m\n\u001b[0m                                                                             ^\u001b[0m\n\u001b[0;31mSyntaxError\u001b[0m\u001b[0;31m:\u001b[0m invalid syntax\n"
     ]
    }
   ],
   "source": [
    "def extract_label(subj_aparc_files, label_id, output_name):\n",
    "    mc = freesurfer.MRIConvert()\n",
    "    mc.inputs.in_file = subj_aparc                             \n",
    "    mc.inputs.out_file = os.path.join(mc.inputs.in_file.split('.')[0] + mc.inputs.in_file.split('.')[1] + '.nii.gz') \n",
    "    mc.run()\n",
    "    calc = afni.Calc()\n",
    "    calc.inputs.in_file_a = os.path.join(mc.inputs.in_file.split('.')[0] + mc.inputs.in_file.split('.')[1] + '.nii.gz') \n",
    "    calc.inputs.expr = 'amongst(a,' + str(label_id) + ')'\n",
    "    calc.inputs.out_file= os.path.dirname(mc.inputs.in_file) + '/' output_name + '.nii.gz')\n",
    "    calc.run() \n",
    "    \n",
    "    "
   ]
  },
  {
   "cell_type": "code",
   "execution_count": 15,
   "metadata": {},
   "outputs": [
    {
     "name": "stdout",
     "output_type": "stream",
     "text": [
      "201215-11:56:44,907 nipype.interface INFO:\n",
      "\t stdout 2020-12-15T11:56:44.906869:mri_convert.bin --input_volume /home/davide/Desktop/DAVE/BHG_Padova/data/derivatives/freesurfer/sub-0001/mri/aparc.a2009s+aseg.nii.gz --output_volume /home/davide/Desktop/DAVE/BHG_Padova/data/derivatives/freesurfer/sub-0001/mri/aparca2009s+aseg.nii.gz \n",
      "201215-11:56:46,305 nipype.interface INFO:\n",
      "\t stdout 2020-12-15T11:56:46.305527:$Id: mri_convert.c,v 1.226 2016/02/26 16:15:24 mreuter Exp $\n",
      "201215-11:56:46,307 nipype.interface INFO:\n",
      "\t stdout 2020-12-15T11:56:46.305527:reading from /home/davide/Desktop/DAVE/BHG_Padova/data/derivatives/freesurfer/sub-0001/mri/aparc.a2009s+aseg.nii.gz...\n",
      "201215-11:56:46,308 nipype.interface INFO:\n",
      "\t stdout 2020-12-15T11:56:46.305527:TR=8.13, TE=0.00, TI=0.00, flip angle=0.00\n",
      "201215-11:56:46,310 nipype.interface INFO:\n",
      "\t stdout 2020-12-15T11:56:46.305527:i_ras = (-1, 1.5134e-09, 0)\n",
      "201215-11:56:46,312 nipype.interface INFO:\n",
      "\t stdout 2020-12-15T11:56:46.305527:j_ras = (0, 0, -1)\n",
      "201215-11:56:46,313 nipype.interface INFO:\n",
      "\t stdout 2020-12-15T11:56:46.305527:k_ras = (3.49246e-10, 1, -3.72529e-09)\n",
      "201215-11:56:46,315 nipype.interface INFO:\n",
      "\t stdout 2020-12-15T11:56:46.305527:writing to /home/davide/Desktop/DAVE/BHG_Padova/data/derivatives/freesurfer/sub-0001/mri/aparca2009s+aseg.nii.gz...\n",
      "201215-11:56:46,455 nipype.interface INFO:\n",
      "\t stderr 2020-12-15T11:56:46.455381:++ 3dcalc: AFNI version=AFNI_19.0.26 (Mar 20 2019) [64-bit]\n",
      "201215-11:56:46,457 nipype.interface INFO:\n",
      "\t stderr 2020-12-15T11:56:46.455381:++ Authored by: A cast of thousands\n",
      "201215-11:56:46,458 nipype.interface INFO:\n",
      "\t stderr 2020-12-15T11:56:46.458901:** AFNI converts NIFTI_datatype=8 (INT32) in file /home/davide/Desktop/DAVE/BHG_Padova/data/derivatives/freesurfer/sub-0001/mri/aparca2009s+aseg.nii.gz to FLOAT32\n",
      "201215-11:56:46,459 nipype.interface INFO:\n",
      "\t stderr 2020-12-15T11:56:46.458901:     Warnings of this type will be muted for this session.\n",
      "201215-11:56:46,460 nipype.interface INFO:\n",
      "\t stderr 2020-12-15T11:56:46.458901:     Set AFNI_NIFTI_TYPE_WARN to YES to see them all, NO to see none.\n",
      "201215-11:56:48,192 nipype.interface INFO:\n",
      "\t stderr 2020-12-15T11:56:48.192702:++ Output dataset /home/davide/Desktop/DAVE/BHG_Padova/data/derivatives/freesurfer/sub-0001/mri/aparca2009s+asegmotor.nii.gz\n"
     ]
    }
   ],
   "source": [
    "extract_label('/home/davide/Desktop/DAVE/BHG_Padova/data/derivatives/freesurfer/sub-0001/mri/aparc.a2009s+aseg.nii.gz', \n",
    "             11128, 'motor')"
   ]
  },
  {
   "cell_type": "code",
   "execution_count": null,
   "metadata": {},
   "outputs": [],
   "source": []
  }
 ],
 "metadata": {
  "kernelspec": {
   "display_name": "Python 3",
   "language": "python",
   "name": "python3"
  },
  "language_info": {
   "codemirror_mode": {
    "name": "ipython",
    "version": 3
   },
   "file_extension": ".py",
   "mimetype": "text/x-python",
   "name": "python",
   "nbconvert_exporter": "python",
   "pygments_lexer": "ipython3",
   "version": "3.7.1"
  }
 },
 "nbformat": 4,
 "nbformat_minor": 2
}
