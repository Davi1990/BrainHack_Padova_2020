{
 "cells": [
  {
   "cell_type": "code",
   "execution_count": 16,
   "metadata": {},
   "outputs": [],
   "source": [
    "import nilearn as nl\n",
    "import glob\n",
    "import numpy as np\n",
    "import pandas as pd"
   ]
  },
  {
   "cell_type": "code",
   "execution_count": 17,
   "metadata": {},
   "outputs": [],
   "source": [
    "data = glob.glob('/home/davide/Desktop/DAVE/BHG_Padova/data/*/anat/*T1*')\n",
    "data = glob.glob('/home/davide/Desktop/DAVE/BHG_Padova/pre_central_gyrus/PIOP1_precentral/combined/resempled/*')"
   ]
  },
  {
   "cell_type": "code",
   "execution_count": 18,
   "metadata": {},
   "outputs": [
    {
     "name": "stderr",
     "output_type": "stream",
     "text": [
      "/home/davide/anaconda3/lib/python3.7/site-packages/ipykernel_launcher.py:2: DeprecationWarning: get_data() is deprecated in favor of get_fdata(), which has a more predictable return type. To obtain get_data() behavior going forward, use numpy.asanyarray(img.dataobj).\n",
      "\n",
      "* deprecated from version: 3.0\n",
      "* Will raise <class 'nibabel.deprecator.ExpiredDeprecationError'> as of version: 5.0\n",
      "  \n",
      "/home/davide/anaconda3/lib/python3.7/site-packages/ipykernel_launcher.py:6: DeprecationWarning: get_data() is deprecated in favor of get_fdata(), which has a more predictable return type. To obtain get_data() behavior going forward, use numpy.asanyarray(img.dataobj).\n",
      "\n",
      "* deprecated from version: 3.0\n",
      "* Will raise <class 'nibabel.deprecator.ExpiredDeprecationError'> as of version: 5.0\n",
      "  \n"
     ]
    }
   ],
   "source": [
    "t1 = nl.image.load_img(data[0]) \n",
    "t1 = t1.get_data()\n",
    "all_t1 = np.zeros([len(data), t1.shape[0],  t1.shape[1],  t1.shape[2]])\n",
    "for subj in range(len(data)):\n",
    "    t12use = nl.image.load_img(data[subj]) \n",
    "    t12use = t12use.get_data()\n",
    "    all_t1[subj,:,:,:] = t12use\n"
   ]
  },
  {
   "cell_type": "code",
   "execution_count": 19,
   "metadata": {},
   "outputs": [
    {
     "data": {
      "text/plain": [
       "(216, 64, 64, 37)"
      ]
     },
     "execution_count": 19,
     "metadata": {},
     "output_type": "execute_result"
    }
   ],
   "source": [
    "all_t1.shape"
   ]
  },
  {
   "cell_type": "code",
   "execution_count": 20,
   "metadata": {},
   "outputs": [],
   "source": [
    "import tensorflow as tf\n",
    "from tensorflow.keras.preprocessing.image import ImageDataGenerator\n",
    "from tensorflow.keras.models import Sequential\n",
    "from tensorflow.keras.layers import Dense, Dropout, Activation, Flatten\n",
    "from tensorflow.keras.layers import Conv2D, MaxPooling2D\n",
    "from tensorflow.keras.optimizers import Adam\n",
    "from tensorflow.keras.optimizers import SGD\n",
    "from tensorflow.keras.utils import to_categorical"
   ]
  },
  {
   "cell_type": "code",
   "execution_count": 21,
   "metadata": {},
   "outputs": [
    {
     "data": {
      "text/html": [
       "<div>\n",
       "<style scoped>\n",
       "    .dataframe tbody tr th:only-of-type {\n",
       "        vertical-align: middle;\n",
       "    }\n",
       "\n",
       "    .dataframe tbody tr th {\n",
       "        vertical-align: top;\n",
       "    }\n",
       "\n",
       "    .dataframe thead th {\n",
       "        text-align: right;\n",
       "    }\n",
       "</style>\n",
       "<table border=\"1\" class=\"dataframe\">\n",
       "  <thead>\n",
       "    <tr style=\"text-align: right;\">\n",
       "      <th></th>\n",
       "      <th>participant_id</th>\n",
       "      <th>age</th>\n",
       "      <th>sex</th>\n",
       "      <th>BMI</th>\n",
       "      <th>handedness</th>\n",
       "      <th>education_category</th>\n",
       "      <th>religious_now</th>\n",
       "      <th>raven_score</th>\n",
       "      <th>NEO_N</th>\n",
       "      <th>NEO_E</th>\n",
       "      <th>NEO_O</th>\n",
       "      <th>NEO_A</th>\n",
       "      <th>NEO_C</th>\n",
       "    </tr>\n",
       "  </thead>\n",
       "  <tbody>\n",
       "    <tr>\n",
       "      <th>0</th>\n",
       "      <td>sub-0001</td>\n",
       "      <td>26.25</td>\n",
       "      <td>F</td>\n",
       "      <td>24.0</td>\n",
       "      <td>0</td>\n",
       "      <td>applied</td>\n",
       "      <td>no</td>\n",
       "      <td>29.0</td>\n",
       "      <td>35</td>\n",
       "      <td>44</td>\n",
       "      <td>37</td>\n",
       "      <td>39</td>\n",
       "      <td>48</td>\n",
       "    </tr>\n",
       "    <tr>\n",
       "      <th>1</th>\n",
       "      <td>sub-0002</td>\n",
       "      <td>21.0</td>\n",
       "      <td>F</td>\n",
       "      <td>23.0</td>\n",
       "      <td>0</td>\n",
       "      <td>academic</td>\n",
       "      <td>no</td>\n",
       "      <td>27.0</td>\n",
       "      <td>27</td>\n",
       "      <td>53</td>\n",
       "      <td>40</td>\n",
       "      <td>48</td>\n",
       "      <td>34</td>\n",
       "    </tr>\n",
       "    <tr>\n",
       "      <th>2</th>\n",
       "      <td>sub-0003</td>\n",
       "      <td>23.0</td>\n",
       "      <td>M</td>\n",
       "      <td>22.0</td>\n",
       "      <td>0</td>\n",
       "      <td>academic</td>\n",
       "      <td>no</td>\n",
       "      <td>22.0</td>\n",
       "      <td>35</td>\n",
       "      <td>40</td>\n",
       "      <td>43</td>\n",
       "      <td>37</td>\n",
       "      <td>38</td>\n",
       "    </tr>\n",
       "    <tr>\n",
       "      <th>3</th>\n",
       "      <td>sub-0004</td>\n",
       "      <td>2020-05-23 00:00:00</td>\n",
       "      <td>F</td>\n",
       "      <td>22.0</td>\n",
       "      <td>0</td>\n",
       "      <td>applied</td>\n",
       "      <td>no</td>\n",
       "      <td>21.0</td>\n",
       "      <td>29</td>\n",
       "      <td>47</td>\n",
       "      <td>41</td>\n",
       "      <td>48</td>\n",
       "      <td>41</td>\n",
       "    </tr>\n",
       "    <tr>\n",
       "      <th>4</th>\n",
       "      <td>sub-0005</td>\n",
       "      <td>21.75</td>\n",
       "      <td>M</td>\n",
       "      <td>19.0</td>\n",
       "      <td>1</td>\n",
       "      <td>applied</td>\n",
       "      <td>no</td>\n",
       "      <td>28.0</td>\n",
       "      <td>26</td>\n",
       "      <td>35</td>\n",
       "      <td>40</td>\n",
       "      <td>38</td>\n",
       "      <td>45</td>\n",
       "    </tr>\n",
       "  </tbody>\n",
       "</table>\n",
       "</div>"
      ],
      "text/plain": [
       "  participant_id                  age sex   BMI  handedness  \\\n",
       "0       sub-0001                26.25   F  24.0           0   \n",
       "1       sub-0002                 21.0   F  23.0           0   \n",
       "2       sub-0003                 23.0   M  22.0           0   \n",
       "3       sub-0004  2020-05-23 00:00:00   F  22.0           0   \n",
       "4       sub-0005                21.75   M  19.0           1   \n",
       "\n",
       "  education_category religious_now  raven_score  NEO_N  NEO_E  NEO_O  NEO_A  \\\n",
       "0            applied            no         29.0     35     44     37     39   \n",
       "1           academic            no         27.0     27     53     40     48   \n",
       "2           academic            no         22.0     35     40     43     37   \n",
       "3            applied            no         21.0     29     47     41     48   \n",
       "4            applied            no         28.0     26     35     40     38   \n",
       "\n",
       "   NEO_C  \n",
       "0     48  \n",
       "1     34  \n",
       "2     38  \n",
       "3     41  \n",
       "4     45  "
      ]
     },
     "execution_count": 21,
     "metadata": {},
     "output_type": "execute_result"
    }
   ],
   "source": [
    "demographic = pd.read_excel('/home/davide/Desktop/DAVE/BHG_Padova/PIOP1_participant-info.xlsx', sep='\\t')\n",
    "demographic['handedness'] = demographic['handedness'].fillna(0)\n",
    "demographic['handedness'].replace(['right','left', 'ambidextrous'],[0,1,1],inplace=True)\n",
    "demographic.head()"
   ]
  },
  {
   "cell_type": "code",
   "execution_count": 22,
   "metadata": {},
   "outputs": [
    {
     "data": {
      "text/plain": [
       "(216, 64, 2368)"
      ]
     },
     "execution_count": 22,
     "metadata": {},
     "output_type": "execute_result"
    }
   ],
   "source": [
    "X = np.reshape(all_t1, (all_t1.shape[0], all_t1.shape[1], all_t1.shape[2]*all_t1.shape[3]))\n",
    "X.shape\n"
   ]
  },
  {
   "cell_type": "code",
   "execution_count": 23,
   "metadata": {},
   "outputs": [
    {
     "name": "stdout",
     "output_type": "stream",
     "text": [
      "Train on 151 samples, validate on 65 samples\n",
      "Epoch 1/20\n",
      "151/151 [==============================] - 138s 912ms/sample - loss: 0.6800 - acc: 0.7848 - val_loss: 0.6636 - val_acc: 0.8462\n",
      "Epoch 2/20\n",
      "151/151 [==============================] - 158s 1s/sample - loss: 0.6505 - acc: 0.8742 - val_loss: 0.6386 - val_acc: 0.8462\n",
      "Epoch 3/20\n",
      "151/151 [==============================] - 125s 826ms/sample - loss: 0.6234 - acc: 0.8742 - val_loss: 0.6146 - val_acc: 0.8462\n",
      "Epoch 4/20\n",
      "151/151 [==============================] - 130s 859ms/sample - loss: 0.5975 - acc: 0.8742 - val_loss: 0.5925 - val_acc: 0.8462\n",
      "Epoch 5/20\n",
      "151/151 [==============================] - 132s 875ms/sample - loss: 0.5735 - acc: 0.8742 - val_loss: 0.5723 - val_acc: 0.8462\n",
      "Epoch 6/20\n",
      "151/151 [==============================] - 133s 880ms/sample - loss: 0.5509 - acc: 0.8742 - val_loss: 0.5527 - val_acc: 0.8462\n",
      "Epoch 7/20\n",
      "151/151 [==============================] - 133s 880ms/sample - loss: 0.5291 - acc: 0.8742 - val_loss: 0.5338 - val_acc: 0.8462\n",
      "Epoch 8/20\n",
      "151/151 [==============================] - 132s 874ms/sample - loss: 0.5075 - acc: 0.8742 - val_loss: 0.5160 - val_acc: 0.8462\n",
      "Epoch 9/20\n",
      "151/151 [==============================] - 139s 920ms/sample - loss: 0.4876 - acc: 0.8742 - val_loss: 0.5008 - val_acc: 0.8462\n",
      "Epoch 10/20\n",
      "151/151 [==============================] - 135s 896ms/sample - loss: 0.4695 - acc: 0.8742 - val_loss: 0.4856 - val_acc: 0.8462\n",
      "Epoch 11/20\n",
      "151/151 [==============================] - 159s 1s/sample - loss: 0.4516 - acc: 0.8742 - val_loss: 0.4722 - val_acc: 0.8462\n",
      "Epoch 12/20\n",
      "151/151 [==============================] - 127s 839ms/sample - loss: 0.4358 - acc: 0.8742 - val_loss: 0.4616 - val_acc: 0.8462\n",
      "Epoch 13/20\n",
      "151/151 [==============================] - 132s 875ms/sample - loss: 0.4231 - acc: 0.8742 - val_loss: 0.4529 - val_acc: 0.8462\n",
      "Epoch 14/20\n",
      "151/151 [==============================] - 141s 931ms/sample - loss: 0.4122 - acc: 0.8742 - val_loss: 0.4462 - val_acc: 0.8462\n",
      "Epoch 15/20\n",
      "151/151 [==============================] - 131s 868ms/sample - loss: 0.4032 - acc: 0.8742 - val_loss: 0.4415 - val_acc: 0.8462\n",
      "Epoch 16/20\n",
      "151/151 [==============================] - 133s 882ms/sample - loss: 0.3969 - acc: 0.8742 - val_loss: 0.4383 - val_acc: 0.8462\n",
      "Epoch 17/20\n",
      "151/151 [==============================] - 131s 870ms/sample - loss: 0.3913 - acc: 0.8742 - val_loss: 0.4360 - val_acc: 0.8462\n",
      "Epoch 18/20\n",
      "151/151 [==============================] - 141s 934ms/sample - loss: 0.3878 - acc: 0.8742 - val_loss: 0.4348 - val_acc: 0.8462\n",
      "Epoch 19/20\n",
      "151/151 [==============================] - 133s 878ms/sample - loss: 0.3843 - acc: 0.8742 - val_loss: 0.4342 - val_acc: 0.8462\n",
      "Epoch 20/20\n",
      "151/151 [==============================] - 132s 877ms/sample - loss: 0.3821 - acc: 0.8742 - val_loss: 0.4340 - val_acc: 0.8462\n"
     ]
    },
    {
     "data": {
      "text/plain": [
       "<tensorflow.python.keras.callbacks.History at 0x7f7ceed41d30>"
      ]
     },
     "execution_count": 23,
     "metadata": {},
     "output_type": "execute_result"
    }
   ],
   "source": [
    "y = np.array(demographic['handedness'])\n",
    "\n",
    "y = to_categorical(y)\n",
    "\n",
    "\n",
    "X = X.reshape(-1, all_t1.shape[1], all_t1.shape[2]*all_t1.shape[3], 1)\n",
    "                \n",
    "\n",
    "input_shape = (all_t1.shape[1], all_t1.shape[2]*all_t1.shape[3])\n",
    "\n",
    "model = Sequential()\n",
    "\n",
    "model.add(Conv2D(256, (3, 3), input_shape=X.shape[1:]))\n",
    "model.add(Activation('relu'))\n",
    "model.add(MaxPooling2D(pool_size=(2, 2)))\n",
    "\n",
    "model.add(Conv2D(256, (3, 3)))\n",
    "model.add(Activation('relu'))\n",
    "model.add(MaxPooling2D(pool_size=(2, 2)))\n",
    "\n",
    "model.add(Flatten())  # this converts our 3D feature maps to 1D feature vectors\n",
    "\n",
    "model.add(Dense(64))\n",
    "\n",
    "model.add(Dense(2))\n",
    "model.add(Activation('sigmoid'))\n",
    "#model.compile(loss='binary_crossentropy',\n",
    " #             optimizer='adam',\n",
    "  #            metrics=['accuracy'])\n",
    "\n",
    "opt = SGD(lr=0.001)\n",
    "model.compile(loss = \"binary_crossentropy\", optimizer = opt, metrics=['accuracy'])\n",
    "\n",
    "model.fit(X, y, batch_size=32, epochs=20, validation_split=0.3)"
   ]
  },
  {
   "cell_type": "code",
   "execution_count": null,
   "metadata": {},
   "outputs": [],
   "source": []
  },
  {
   "cell_type": "code",
   "execution_count": null,
   "metadata": {},
   "outputs": [],
   "source": []
  },
  {
   "cell_type": "code",
   "execution_count": null,
   "metadata": {},
   "outputs": [],
   "source": []
  }
 ],
 "metadata": {
  "kernelspec": {
   "display_name": "Python 3",
   "language": "python",
   "name": "python3"
  },
  "language_info": {
   "codemirror_mode": {
    "name": "ipython",
    "version": 3
   },
   "file_extension": ".py",
   "mimetype": "text/x-python",
   "name": "python",
   "nbconvert_exporter": "python",
   "pygments_lexer": "ipython3",
   "version": "3.7.1"
  }
 },
 "nbformat": 4,
 "nbformat_minor": 4
}
